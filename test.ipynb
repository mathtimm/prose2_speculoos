{
 "cells": [
  {
   "cell_type": "code",
   "execution_count": 1,
   "metadata": {},
   "outputs": [
    {
     "name": "stdout",
     "output_type": "stream",
     "text": [
      "callisto.telescope differs from builtins (use prose.CONFIG.update_builtins() to update)\n",
      "io.telescope differs from builtins (use prose.CONFIG.update_builtins() to update)\n",
      "ganymede.telescope differs from builtins (use prose.CONFIG.update_builtins() to update)\n",
      "europa.telescope differs from builtins (use prose.CONFIG.update_builtins() to update)\n",
      "artemis.telescope differs from builtins (use prose.CONFIG.update_builtins() to update)\n",
      "trappist-south.telescope differs from builtins (use prose.CONFIG.update_builtins() to update)\n",
      "trappist-north.telescope differs from builtins (use prose.CONFIG.update_builtins() to update)\n",
      "saint-ex.telescope differs from builtins (use prose.CONFIG.update_builtins() to update)\n",
      "liverpool.telescope differs from builtins (use prose.CONFIG.update_builtins() to update)\n",
      "spirit.telescope differs from builtins (use prose.CONFIG.update_builtins() to update)\n"
     ]
    }
   ],
   "source": [
    "import prose"
   ]
  },
  {
   "cell_type": "code",
   "execution_count": null,
   "metadata": {},
   "outputs": [],
   "source": []
  }
 ],
 "metadata": {
  "kernelspec": {
   "display_name": "prose3-env",
   "language": "python",
   "name": "python3"
  },
  "language_info": {
   "codemirror_mode": {
    "name": "ipython",
    "version": 3
   },
   "file_extension": ".py",
   "mimetype": "text/x-python",
   "name": "python",
   "nbconvert_exporter": "python",
   "pygments_lexer": "ipython3",
   "version": "3.9.16"
  }
 },
 "nbformat": 4,
 "nbformat_minor": 2
}
